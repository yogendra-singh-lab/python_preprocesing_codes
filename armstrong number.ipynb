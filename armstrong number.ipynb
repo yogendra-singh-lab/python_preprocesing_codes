{
 "cells": [
  {
   "cell_type": "code",
   "execution_count": null,
   "metadata": {},
   "outputs": [],
   "source": [
    "import math\n",
    "i= (input())\n",
    "n = len(str(x))\n",
    "result = 0\n",
    "for i in range(100001):\n",
    "    digit = i%10\n",
    "    result = result+pow(digit,n)\n",
    "    i = i//10\n",
    "if x == result :\n",
    "    print(\"no is armstrong \")\n",
    "else:\n",
    "    print('no is not armstrong')\n",
    "\n",
    "    \n"
   ]
  },
  {
   "cell_type": "markdown",
   "metadata": {},
   "source": [
    "# palindrome number"
   ]
  },
  {
   "cell_type": "code",
   "execution_count": 8,
   "metadata": {},
   "outputs": [
    {
     "name": "stdout",
     "output_type": "stream",
     "text": [
      "121\n",
      "no. is palindrome\n"
     ]
    }
   ],
   "source": [
    "x = str(input())\n",
    "y = x[::-1]\n",
    "if x==y :\n",
    "    print('no. is palindrome')\n",
    "else:\n",
    "    print('no is not palindrome')"
   ]
  },
  {
   "cell_type": "markdown",
   "metadata": {},
   "source": [
    "# no. is prime or not"
   ]
  },
  {
   "cell_type": "code",
   "execution_count": 20,
   "metadata": {},
   "outputs": [
    {
     "name": "stdout",
     "output_type": "stream",
     "text": [
      "2\n",
      "45\n"
     ]
    }
   ],
   "source": [
    "lower  =int(input())\n",
    "upper = int(input())\n",
    "\n",
    "for x in range(lower,upper+1):\n",
    "    if x>1:\n",
    "        for i in range(2,x):\n",
    "            if (x%i == 0):\n",
    "                break\n",
    "    else :\n",
    "        print(x)\n",
    "        \n",
    "    "
   ]
  },
  {
   "cell_type": "markdown",
   "metadata": {},
   "source": [
    "# armstrong number\n"
   ]
  },
  {
   "cell_type": "code",
   "execution_count": 24,
   "metadata": {},
   "outputs": [
    {
     "name": "stdout",
     "output_type": "stream",
     "text": [
      "6\n",
      "720\n"
     ]
    }
   ],
   "source": [
    "x = int(input())\n",
    "result  = 1\n",
    "for i in range(x,0,-1):\n",
    "    result = result*i\n",
    "print(result)\n",
    "    "
   ]
  },
  {
   "cell_type": "code",
   "execution_count": null,
   "metadata": {},
   "outputs": [],
   "source": [
    "# two numbers are co prime or not\n",
    "n1 = int(input())\n",
    "n2 = int(input())\n",
    "from fractions import gcd\n",
    "if gcd(n1,n2) == 1:\n",
    "    print(n1,\"and\",n2,\"are co prime\")\n",
    "else:\n",
    "    print(\"no\")"
   ]
  },
  {
   "cell_type": "markdown",
   "metadata": {},
   "source": [
    "# "
   ]
  }
 ],
 "metadata": {
  "kernelspec": {
   "display_name": "Python 3",
   "language": "python",
   "name": "python3"
  },
  "language_info": {
   "codemirror_mode": {
    "name": "ipython",
    "version": 3
   },
   "file_extension": ".py",
   "mimetype": "text/x-python",
   "name": "python",
   "nbconvert_exporter": "python",
   "pygments_lexer": "ipython3",
   "version": "3.8.5"
  }
 },
 "nbformat": 4,
 "nbformat_minor": 4
}
