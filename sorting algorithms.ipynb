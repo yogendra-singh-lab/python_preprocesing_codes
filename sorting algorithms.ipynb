{
 "cells": [
  {
   "cell_type": "code",
   "execution_count": 9,
   "metadata": {},
   "outputs": [
    {
     "name": "stdout",
     "output_type": "stream",
     "text": [
      "[3, 4, 6, 78, 2, 0, 3, 0]\n",
      "[0, 0, 2, 3, 3, 4, 6, 78]\n"
     ]
    }
   ],
   "source": [
    "# selection sort\n",
    "list1 = [3,4,6,78,2,0,3,0]\n",
    "print(list1)\n",
    "for i in range(len(list1)):\n",
    "    min_value = min(list1[i:])\n",
    "    min_ind = list1.index(min_value,i)\n",
    "    list1[i],list1[min_ind] = list1[min_ind],list1[i]\n",
    "print(list1)"
   ]
  },
  {
   "cell_type": "code",
   "execution_count": null,
   "metadata": {},
   "outputs": [],
   "source": [
    "# for duplicate number "
   ]
  },
  {
   "cell_type": "code",
   "execution_count": null,
   "metadata": {},
   "outputs": [],
   "source": [
    "list = [input(i) for i in input().split()]\n",
    "print(list)\n",
    "#no. of rotation\n",
    "n = int(input())\n",
    "l = len(list)\n",
    "for i in range(l-n+1):\n",
    "    list[i],list[i+n] = list[i+n],list[i]\n",
    "print(list)"
   ]
  },
  {
   "cell_type": "code",
   "execution_count": 9,
   "metadata": {},
   "outputs": [
    {
     "name": "stdout",
     "output_type": "stream",
     "text": [
      "[2, 12, 34, 6, 86]\n",
      "[2, 12, 34, 6, 86]\n",
      "[2, 12, 6, 34, 86]\n",
      "[2, 12, 6, 34, 86]\n",
      "\n",
      "[2, 12, 6, 34, 86]\n",
      "[2, 6, 12, 34, 86]\n",
      "[2, 6, 12, 34, 86]\n",
      "[2, 6, 12, 34, 86]\n",
      "\n",
      "[2, 6, 12, 34, 86]\n",
      "[2, 6, 12, 34, 86]\n",
      "[2, 6, 12, 34, 86]\n",
      "[2, 6, 12, 34, 86]\n",
      "\n",
      "[2, 6, 12, 34, 86]\n",
      "[2, 6, 12, 34, 86]\n",
      "[2, 6, 12, 34, 86]\n",
      "[2, 6, 12, 34, 86]\n",
      "\n",
      "[2, 6, 12, 34, 86]\n"
     ]
    }
   ],
   "source": [
    "# bubble sort\n",
    "\n",
    "list = [12,2,34,6,86]\n",
    "for j in range(len(list)-1):\n",
    "    for i in range(len(list)-1):\n",
    "        if list[i]>list[i+1]:\n",
    "            list[i],list[i+1] = list[i+1] ,list[i]\n",
    "            print(list)\n",
    "        else:\n",
    "            print(list)\n",
    "    print()\n",
    "print(list)\n",
    "    "
   ]
  },
  {
   "cell_type": "code",
   "execution_count": 14,
   "metadata": {},
   "outputs": [
    {
     "name": "stdout",
     "output_type": "stream",
     "text": [
      "yogi\n",
      "jj\n"
     ]
    }
   ],
   "source": [
    "# to check a number is palindrome por not\n",
    "n = input()\n",
    "rev_str = n[::-1]\n",
    "if n == rev_str:\n",
    "    print(\"string is p\")\n",
    "else:\n",
    "    print('jj')\n",
    "\n",
    "    \n",
    "    \n",
    "    \n",
    "    \n",
    "    \n",
    "    \n",
    "    \n",
    "    \n",
    "    \n",
    "    \n",
    "    \n",
    "               "
   ]
  },
  {
   "cell_type": "code",
   "execution_count": null,
   "metadata": {},
   "outputs": [],
   "source": []
  }
 ],
 "metadata": {
  "kernelspec": {
   "display_name": "Python 3",
   "language": "python",
   "name": "python3"
  },
  "language_info": {
   "codemirror_mode": {
    "name": "ipython",
    "version": 3
   },
   "file_extension": ".py",
   "mimetype": "text/x-python",
   "name": "python",
   "nbconvert_exporter": "python",
   "pygments_lexer": "ipython3",
   "version": "3.8.5"
  }
 },
 "nbformat": 4,
 "nbformat_minor": 4
}
