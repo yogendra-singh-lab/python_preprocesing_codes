{
 "cells": [
  {
   "cell_type": "code",
   "execution_count": 1,
   "metadata": {},
   "outputs": [
    {
     "name": "stdout",
     "output_type": "stream",
     "text": [
      "my name is yogendra\n",
      "6\n"
     ]
    }
   ],
   "source": [
    "\n",
    "\n",
    "sentence = input()\n",
    "string = sentence.lower()\n",
    "count = 0\n",
    "list = ['a','e','i','o','u']\n",
    "for char in string:\n",
    "    if char in list:\n",
    "        count+=1\n",
    "print(count)"
   ]
  },
  {
   "cell_type": "code",
   "execution_count": 4,
   "metadata": {},
   "outputs": [
    {
     "name": "stdout",
     "output_type": "stream",
     "text": [
      "yogi\n",
      "hjg\n",
      "['g', 'i', 'o', 'y']\n",
      "strings are not anagrams\n",
      "yogi\n",
      "hjg\n"
     ]
    }
   ],
   "source": [
    "# anagram questions\n",
    "string1 = input()\n",
    "string2 = input()\n",
    "string1_sort = sorted(string1)\n",
    "string2_sort = sorted(string2)\n",
    "print(string1_sort)\n",
    "\n",
    "if string1_sort == string2_sort:\n",
    "    print('strings are anagrams')\n",
    "else:\n",
    "    print('strings are not anagrams')\n",
    "print(string1)\n",
    "print(string2)\n",
    "\n",
    "    "
   ]
  },
  {
   "cell_type": "code",
   "execution_count": 9,
   "metadata": {},
   "outputs": [
    {
     "name": "stdout",
     "output_type": "stream",
     "text": [
      "[4, 8, 10, 45, 67]\n",
      "[4, 45, 67, 8, 10]\n"
     ]
    }
   ],
   "source": [
    "list = [4,45,67,8,10]\n",
    "print(sorted(list))\n",
    "print(list)"
   ]
  },
  {
   "cell_type": "code",
   "execution_count": null,
   "metadata": {},
   "outputs": [],
   "source": [
    "n = input()\n",
    "n1 = input()\n",
    "if (n.find(n1) == -1):\n",
    "    print(\"the given sub string is not present in the main string\")\n",
    "else:\n",
    "    print(\"the given string is present in the main string\")"
   ]
  },
  {
   "cell_type": "code",
   "execution_count": 10,
   "metadata": {},
   "outputs": [
    {
     "name": "stdout",
     "output_type": "stream",
     "text": [
      "yogi_singh_shekhawat\n",
      "Yogi Singh Shekhawat\n"
     ]
    }
   ],
   "source": [
    "n = input()\n",
    "str = n.replace(\"_\",\" \").title()\n",
    "print(str)"
   ]
  },
  {
   "cell_type": "code",
   "execution_count": 2,
   "metadata": {},
   "outputs": [
    {
     "name": "stdout",
     "output_type": "stream",
     "text": [
      "yogendra\n",
      "ygnr"
     ]
    }
   ],
   "source": [
    "#to prriont the even leeters of a string\n",
    "str = input()\n",
    "l = len(str)\n",
    "for i in range(l):\n",
    "    if i==0 or i%2 == 0:\n",
    "        print(str[i],end = \"\")"
   ]
  },
  {
   "cell_type": "code",
   "execution_count": 18,
   "metadata": {},
   "outputs": [
    {
     "name": "stdout",
     "output_type": "stream",
     "text": [
      "yogendra\n",
      "i is not present in the str\n",
      "u is not present in the str\n",
      "the sting is not accepted\n"
     ]
    }
   ],
   "source": [
    "# to check whether vowel is present in given string or not\n",
    "str = input()\n",
    "vow = [\"a\",\"e\",\"i\",\"o\",\"u\"]\n",
    "l1 = len(str)\n",
    "l = len(vow)\n",
    "str.lower()\n",
    "count = 0\n",
    "for i in range(l):\n",
    "    if vow[i] in str:\n",
    "            count +=1\n",
    "    elif vow[i] not in str:\n",
    "        print(vow[i]+ \" is not present in the str\")\n",
    "if count == 5:\n",
    "    print(\"the string is accepted\")\n",
    "else:\n",
    "    print(\"the sting is not accepted\")            "
   ]
  },
  {
   "cell_type": "code",
   "execution_count": 14,
   "metadata": {},
   "outputs": [
    {
     "name": "stdout",
     "output_type": "stream",
     "text": [
      "yes\n"
     ]
    }
   ],
   "source": [
    "str = \"gjnbl\"\n",
    "if \"g\" in str:\n",
    "    print(\"yes\")"
   ]
  },
  {
   "cell_type": "code",
   "execution_count": 23,
   "metadata": {},
   "outputs": [
    {
     "name": "stdout",
     "output_type": "stream",
     "text": [
      "yogendra\n",
      "surendra\n",
      "e n d r a \n",
      "5\n"
     ]
    }
   ],
   "source": [
    "# to check matching letters in string\n",
    "str = input()\n",
    "str1 = input()\n",
    "l  = len(str)\n",
    "count = 0\n",
    "for i in str:\n",
    "    if i in str1:\n",
    "        count+=1\n",
    "        print(i,end = \" \")\n",
    "print()\n",
    "print(count)\n",
    "    "
   ]
  },
  {
   "cell_type": "code",
   "execution_count": null,
   "metadata": {},
   "outputs": [],
   "source": [
    "# removeduplicate \n",
    "n = input()\n",
    "str = \"\"\n",
    "i = 0\n",
    "for x in n:\n",
    "    if n.index(x) == i:\n",
    "        s+=x\n",
    "        i+=1\n",
    "print(s)\n",
    "\n",
    "        "
   ]
  },
  {
   "cell_type": "code",
   "execution_count": null,
   "metadata": {},
   "outputs": [],
   "source": [
    "# leasty frequent charactwre in stringb\n",
    "str = input()\n",
    "dict = {}\n",
    "for i in str:\n",
    "    if i in dict:\n",
    "        dict[i]+=1\n",
    "    else:\n",
    "        dict[i] = 1\n",
    "print(dict)\n",
    "        "
   ]
  },
  {
   "cell_type": "code",
   "execution_count": 11,
   "metadata": {},
   "outputs": [
    {
     "name": "stdout",
     "output_type": "stream",
     "text": [
      "yogi dinfdff djfndl\n",
      "['yogi', 'dinfdff', 'djfndl']\n",
      "yogi_dinfdff_djfndl\n"
     ]
    }
   ],
   "source": [
    "str = input()\n",
    "splitstr = str.split(\" \")\n",
    "print(splitstr)\n",
    "str = \"_\".join(splitstr)\n",
    "print(str)"
   ]
  },
  {
   "cell_type": "code",
   "execution_count": 7,
   "metadata": {},
   "outputs": [
    {
     "data": {
      "text/plain": [
       "0"
      ]
     },
     "execution_count": 7,
     "metadata": {},
     "output_type": "execute_result"
    }
   ],
   "source": [
    "s = \"\"\n",
    "list = s.split(\" \")\n",
    "len(list[-1])\n"
   ]
  },
  {
   "cell_type": "code",
   "execution_count": null,
   "metadata": {},
   "outputs": [],
   "source": []
  },
  {
   "cell_type": "code",
   "execution_count": null,
   "metadata": {},
   "outputs": [],
   "source": [
    "+"
   ]
  }
 ],
 "metadata": {
  "kernelspec": {
   "display_name": "Python 3",
   "language": "python",
   "name": "python3"
  },
  "language_info": {
   "codemirror_mode": {
    "name": "ipython",
    "version": 3
   },
   "file_extension": ".py",
   "mimetype": "text/x-python",
   "name": "python",
   "nbconvert_exporter": "python",
   "pygments_lexer": "ipython3",
   "version": "3.8.5"
  }
 },
 "nbformat": 4,
 "nbformat_minor": 4
}
