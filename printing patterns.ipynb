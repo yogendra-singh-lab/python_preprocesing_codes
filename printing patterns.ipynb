{
 "cells": [
  {
   "cell_type": "code",
   "execution_count": null,
   "metadata": {},
   "outputs": [],
   "source": [
    "n = int(input('Enter a number'))\n",
    "for i in range(1,n+1):\n",
    "    for x in range(1,i+1):\n",
    "        print(x,end = \"\")\n",
    "    print('/n')"
   ]
  },
  {
   "cell_type": "code",
   "execution_count": 2,
   "metadata": {},
   "outputs": [
    {
     "name": "stdout",
     "output_type": "stream",
     "text": [
      "1700\n",
      "year is not a leap year\n"
     ]
    }
   ],
   "source": [
    "# leap year programye\n",
    "year = int(input())\n",
    "if year%4 == 0:\n",
    "    if year%100 == 0:\n",
    "        if year%400 == 0:\n",
    "            print('year is a leap year ')\n",
    "        else:\n",
    "            print('year is not a leap year')\n",
    "    else:\n",
    "        print('year is not a leap year')\n",
    "else:\n",
    "    print('year is not leap year')"
   ]
  },
  {
   "cell_type": "code",
   "execution_count": null,
   "metadata": {},
   "outputs": [],
   "source": []
  }
 ],
 "metadata": {
  "kernelspec": {
   "display_name": "Python 3",
   "language": "python",
   "name": "python3"
  },
  "language_info": {
   "codemirror_mode": {
    "name": "ipython",
    "version": 3
   },
   "file_extension": ".py",
   "mimetype": "text/x-python",
   "name": "python",
   "nbconvert_exporter": "python",
   "pygments_lexer": "ipython3",
   "version": "3.8.5"
  }
 },
 "nbformat": 4,
 "nbformat_minor": 4
}
